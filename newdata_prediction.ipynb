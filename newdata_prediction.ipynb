{
 "cells": [
  {
   "cell_type": "code",
   "execution_count": 2,
   "id": "e22168c0",
   "metadata": {},
   "outputs": [],
   "source": [
    "import pickle\n",
    "import hdbscan\n",
    "from module.module import *\n",
    "from matplotlib import font_manager, rc\n",
    "\n",
    "plt.rcParams['axes.unicode_minus'] = False\n",
    "rc('font', family='AppleGothic')\n",
    "pd.set_option('display.max_columns', None)"
   ]
  },
  {
   "cell_type": "code",
   "execution_count": 3,
   "id": "3ed2f8fc",
   "metadata": {},
   "outputs": [],
   "source": [
    "# Test를 위해 미드 중 랜덤샘플링에 사용\n",
    "with open('datas/position/MID_for_model.pkl', 'rb') as f:\n",
    "    mid_df = pickle.load(f)\n",
    "\n",
    "# 특정 플레이시간에 오브젝트 관여의 중요도를 보여주는 것에 사용\n",
    "with open('datas/team_2_for_model.pkl', 'rb') as f:\n",
    "    team_2_df = pickle.load(f)\n",
    "\n",
    "# 특정 플레이시간, 오브젝트에 대해 포지션별 승률이 높은 TOP2 챔피언 추천에 사용\n",
    "with open('datas/recommendation_obj_for_model', 'rb') as f:\n",
    "    reco_obj_df = pickle.load(f)\n",
    "    \n",
    "# 군집예측을 위해 랜덤샘플링된 데이터와 매칭할 때 사용\n",
    "with open('datas/pca_tsne_mid.pkl', 'rb') as f:\n",
    "    tsne_data = pickle.load(f)\n",
    "    \n",
    "# 군집예측을 위해 tsne된 데이터를 학습시킨 모델\n",
    "with open('models/hdbscan_obj.pkl', 'rb') as f:\n",
    "    hdb_model = pickle.load(f)\n",
    "    \n",
    "# 군집별 출현빈도에 대한 데이터\n",
    "with open('datas/label_score.pkl', 'rb') as f:\n",
    "    label_score = pickle.load(f)\n",
    "\n",
    "# 군집별 TOP3 챔피언 추천에 사용\n",
    "with open('datas/position/la_mid_for_model.pkl', 'rb') as f:\n",
    "    la_mid_df = pickle.load(f)"
   ]
  },
  {
   "cell_type": "markdown",
   "id": "c8a6c9ee",
   "metadata": {},
   "source": [
    "#### 랜덤샘플링을 위한 10개의 인덱스 추출"
   ]
  },
  {
   "cell_type": "code",
   "execution_count": 201,
   "id": "3475f24b",
   "metadata": {},
   "outputs": [
    {
     "data": {
      "text/plain": [
       "array([ 48045,  46220, 328599, 222339, 108969, 311559,   3905, 168625,\n",
       "       317357, 163261])"
      ]
     },
     "execution_count": 201,
     "metadata": {},
     "output_type": "execute_result"
    }
   ],
   "source": [
    "np.random.seed(30)\n",
    "random_idx = np.random.choice(mid_df.index, size=10)\n",
    "random_idx"
   ]
  },
  {
   "cell_type": "markdown",
   "id": "d03c3b0a",
   "metadata": {},
   "source": [
    "#### 미드에서 랜덤샘플링 및 표본평균 추출"
   ]
  },
  {
   "cell_type": "code",
   "execution_count": 202,
   "id": "943e32b9",
   "metadata": {},
   "outputs": [
    {
     "name": "stdout",
     "output_type": "stream",
     "text": [
      "Samples Mean gameduraion : 26.47\n"
     ]
    }
   ],
   "source": [
    "samples = mid_df.loc[random_idx]\n",
    "s_time = np.mean(samples[\"gameduration\"])\n",
    "print(f'Samples Mean gameduraion : {np.round(s_time, 2)}')"
   ]
  },
  {
   "cell_type": "markdown",
   "id": "aef929c5",
   "metadata": {},
   "source": [
    "#### 표본 평균에 대한 기준 플레이 시간 정의"
   ]
  },
  {
   "cell_type": "code",
   "execution_count": 203,
   "id": "0ddb238a",
   "metadata": {},
   "outputs": [
    {
     "name": "stdout",
     "output_type": "stream",
     "text": [
      "20~30분 1200 1800\n"
     ]
    }
   ],
   "source": [
    "if s_time >= 40:\n",
    "    data = team_2_df[team_2_df['gameduration'] >= 2400]\n",
    "    criteria = \"40분 이상\"\n",
    "    duration1, duration2 = 2400, None\n",
    "elif s_time >= 30:\n",
    "    data = team_2_df[(team_2_df['gameduration'] >=1800) & (team_2_df['gameduration'] < 2400)]\n",
    "    criteria = \"30~40분\"\n",
    "    duration1, duration2 = 1800, 2400\n",
    "elif s_time >= 20:\n",
    "    data = team_2_df[(team_2_df['gameduration'] >=1200) & (team_2_df['gameduration'] < 1800)]\n",
    "    criteria = \"20~30분\"\n",
    "    duration1, duration2 = 1200, 1800\n",
    "else:\n",
    "    data = team_2_df[team_2_df['gameduration'] < 1200]\n",
    "    criteria = \"20분 미만\"\n",
    "    duration1, duration2 = 1200, None\n",
    "    \n",
    "print(criteria, duration1, duration2)"
   ]
  },
  {
   "cell_type": "markdown",
   "id": "cac3e1de",
   "metadata": {},
   "source": [
    "#### 표본의 기준 플레이시간에 대한 오브젝트 중요도 정보 제공"
   ]
  },
  {
   "cell_type": "code",
   "execution_count": 204,
   "id": "32a9f246",
   "metadata": {},
   "outputs": [
    {
     "data": {
      "image/png": "[encoded data removed]",
      "text/plain": [
       "<Figure size 432x288 with 1 Axes>"
      ]
     },
     "metadata": {
      "needs_background": "light"
     },
     "output_type": "display_data"
    }
   ],
   "source": [
    "show_rateplot(data, criteria)"
   ]
  },
  {
   "cell_type": "markdown",
   "id": "dce3c434",
   "metadata": {},
   "source": [
    "#### 표본의 기준 플레이시간에서 첫 억제기 파괴관여하고 이긴 포지션 및 TOP2 챔피언 정보 제공"
   ]
  },
  {
   "cell_type": "code",
   "execution_count": 205,
   "id": "a38f5d27",
   "metadata": {},
   "outputs": [
    {
     "name": "stdout",
     "output_type": "stream",
     "text": [
      "ADC의 firstinhibitor 기여도: 22.06%\n",
      "ADC 중 TOP2 Champion: Ezreal(17.96%), Caitlyn(12.56%)\n",
      "--------------\n",
      "JUNGLE의 firstinhibitor 기여도: 19.57%\n",
      "JUNGLE 중 TOP2 Champion: LeeSin(9.43%), Nidalee(8.6%)\n",
      "--------------\n",
      "MID의 firstinhibitor 기여도: 18.62%\n",
      "MID 중 TOP2 Champion: Sylas(5.63%), Akali(5.54%)\n",
      "--------------\n",
      "SUPPORT의 firstinhibitor 기여도: 21.57%\n",
      "SUPPORT 중 TOP2 Champion: Thresh(9.58%), Lulu(7.56%)\n",
      "--------------\n",
      "TOP의 firstinhibitor 기여도: 18.19%\n",
      "TOP 중 TOP2 Champion: Camille(6.64%), Renekton(5.68%)\n",
      "--------------\n"
     ]
    }
   ],
   "source": [
    "recommendation_obj(reco_obj_df, 'firstinhibitor', duration1, duration2)"
   ]
  },
  {
   "cell_type": "markdown",
   "id": "803d0992",
   "metadata": {},
   "source": [
    "#### 랜덤샘플링 인덱스를 tsne 데이터와 매칭 후 HDBSCAN모델을 사용한 군집예측"
   ]
  },
  {
   "cell_type": "code",
   "execution_count": 206,
   "id": "b1788ae6",
   "metadata": {},
   "outputs": [
    {
     "data": {
      "text/plain": [
       "array([7, 7, 0, 7, 7, 6, 7, 7, 7, 7])"
      ]
     },
     "execution_count": 206,
     "metadata": {},
     "output_type": "execute_result"
    }
   ],
   "source": [
    "tsne_samples = tsne_data[random_idx]\n",
    "\n",
    "s_labels, strengths = hdbscan.approximate_predict(hdb_model, tsne_samples)\n",
    "s_labels"
   ]
  },
  {
   "cell_type": "markdown",
   "id": "c2d09670",
   "metadata": {},
   "source": [
    "#### 뽑힌 군집과 해당 군집의 출현빈도에 대한 데이터로 정리"
   ]
  },
  {
   "cell_type": "code",
   "execution_count": 207,
   "id": "c22f3012",
   "metadata": {},
   "outputs": [
    {
     "name": "stdout",
     "output_type": "stream",
     "text": [
      "{0: 0.1, 6: 0.1, 7: 0.8}\n"
     ]
    }
   ],
   "source": [
    "unique_label, counts = np.unique(s_labels, return_counts=True)\n",
    "result = dict(zip(unique_label, counts / counts.sum()))\n",
    "print(result)"
   ]
  },
  {
   "cell_type": "code",
   "execution_count": 4,
   "id": "57c592bb",
   "metadata": {},
   "outputs": [
    {
     "data": {
      "text/plain": [
       "{0: 0.00409136995288364,\n",
       " 1: 0.00837657303035725,\n",
       " 2: 0.015065306852746466,\n",
       " 3: 0.006426313592175106,\n",
       " 4: 0.10475040257648953,\n",
       " 5: 0.02067453927357309,\n",
       " 6: 0.010792031967555318,\n",
       " 7: 0.8298234627542196}"
      ]
     },
     "execution_count": 4,
     "metadata": {},
     "output_type": "execute_result"
    }
   ],
   "source": [
    "label_score"
   ]
  },
  {
   "cell_type": "markdown",
   "id": "3ca004a1",
   "metadata": {},
   "source": [
    "#### 표본의 출현빈도와 군집의 점수를 통한 점수계산"
   ]
  },
  {
   "cell_type": "code",
   "execution_count": 208,
   "id": "7f650d75",
   "metadata": {},
   "outputs": [
    {
     "data": {
      "text/plain": [
       "{0: 24.44169096209913, 6: 9.266095606521139, 7: 0.9640604729887557}"
      ]
     },
     "execution_count": 208,
     "metadata": {},
     "output_type": "execute_result"
    }
   ],
   "source": [
    "result_score = {}\n",
    "for k, v in result.items():\n",
    "    try:\n",
    "        result_score[k] = v / label_score[k]\n",
    "    except:\n",
    "        continue\n",
    "\n",
    "result_score"
   ]
  },
  {
   "cell_type": "markdown",
   "id": "23bdd6e5",
   "metadata": {},
   "source": [
    "#### 표본의 군집 예측"
   ]
  },
  {
   "cell_type": "code",
   "execution_count": 209,
   "id": "54b99735",
   "metadata": {},
   "outputs": [
    {
     "data": {
      "text/plain": [
       "0"
      ]
     },
     "execution_count": 209,
     "metadata": {},
     "output_type": "execute_result"
    }
   ],
   "source": [
    "s_cluster = list(result_score.keys())[np.argmax(list(result_score.values()))]\n",
    "s_cluster"
   ]
  },
  {
   "cell_type": "markdown",
   "id": "d8c7ee37",
   "metadata": {},
   "source": [
    "#### 예측된 군집에서의 TOP3 챔피언 정보 제공"
   ]
  },
  {
   "cell_type": "code",
   "execution_count": 210,
   "id": "5daf271b",
   "metadata": {},
   "outputs": [
    {
     "name": "stdout",
     "output_type": "stream",
     "text": [
      "Cluster_0 중 Pick Rate TOP3 >> Yasuo(9.55%), Yone(8.53%), Talon(6.92%)\n"
     ]
    }
   ],
   "source": [
    "show_champion_label(la_mid_df, s_cluster)"
   ]
  },
  {
   "cell_type": "markdown",
   "id": "9da076bf",
   "metadata": {},
   "source": [
    "```\n",
    "Best 1 : 적 정글 중립미니언킬, 오브젝트에 가한 피해량, 타워킬, 골드획득, 총 중립미니언킬\n",
    "        , 포탑에 가한 피해량, CS수\n",
    "Best 2 : 총 가한 군중제어 시간\n",
    "Worst 1 : -\n",
    "Worst 2 : 와드 제거 수, 시야점수, 적에게 가한 CC시간\n",
    "```\n",
    "- 다른 군집에 비해 포탑 및 오브젝트의 관여도가 높으며, CS수가 높습니다.\n",
    "- 다른 군집에 비해 와드제거 및 시야점수가 낮으며 적에게 가하는 CC시간이 적습니다.\n",
    "- 부족한 특징 중 시야점수를 우선적으로 높인다면 이길 확률이 더욱 더 높아질 수 있습니다."
   ]
  }
 ],
 "metadata": {
  "kernelspec": {
   "display_name": "Python 3",
   "language": "python",
   "name": "python3"
  },
  "language_info": {
   "codemirror_mode": {
    "name": "ipython",
    "version": 3
   },
   "file_extension": ".py",
   "mimetype": "text/x-python",
   "name": "python",
   "nbconvert_exporter": "python",
   "pygments_lexer": "ipython3",
   "version": "3.8.8"
  }
 },
 "nbformat": 4,
 "nbformat_minor": 5
}
