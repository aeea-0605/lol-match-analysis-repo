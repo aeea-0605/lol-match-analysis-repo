{
 "cells": [
  {
   "cell_type": "code",
   "execution_count": 1,
   "id": "da31226c",
   "metadata": {},
   "outputs": [],
   "source": [
    "import os, glob\n",
    "import json\n",
    "import pickle\n",
    "from matplotlib import font_manager, rc\n",
    "from module.module import * # 분석에 필요한 코드가 들어있는 모듈파일 import\n",
    "\n",
    "\n",
    "plt.rcParams['axes.unicode_minus'] = False\n",
    "rc('font', family='AppleGothic')\n",
    "\n",
    "palette_1 = sns.color_palette('hls',8)\n",
    "pd.set_option('display.max_columns', None)\n",
    "\n",
    "path = os.path.join(os.getcwd(), \"datas\")"
   ]
  },
  {
   "cell_type": "markdown",
   "id": "4a95c509",
   "metadata": {},
   "source": [
    "### 데이터 load 및 불필요한 변수제거\n",
    "- vilemawkills, dominionvictoryscore, teamid : 분석에 필요없는 변수제거"
   ]
  },
  {
   "cell_type": "code",
   "execution_count": 9,
   "id": "c08c6fe5",
   "metadata": {},
   "outputs": [],
   "source": [
    "with open('datas/teams_2.pkl', 'rb') as f:\n",
    "    team_df = pickle.load(f)"
   ]
  },
  {
   "cell_type": "code",
   "execution_count": 10,
   "id": "534ecebf",
   "metadata": {
    "scrolled": true
   },
   "outputs": [
    {
     "data": {
      "text/html": [
       "<div>\n",
       "<style scoped>\n",
       "    .dataframe tbody tr th:only-of-type {\n",
       "        vertical-align: middle;\n",
       "    }\n",
       "\n",
       "    .dataframe tbody tr th {\n",
       "        vertical-align: top;\n",
       "    }\n",
       "\n",
       "    .dataframe thead th {\n",
       "        text-align: right;\n",
       "    }\n",
       "</style>\n",
       "<table border=\"1\" class=\"dataframe\">\n",
       "  <thead>\n",
       "    <tr style=\"text-align: right;\">\n",
       "      <th></th>\n",
       "      <th>firstdragon</th>\n",
       "      <th>firstinhibitor</th>\n",
       "      <th>baronkills</th>\n",
       "      <th>firstriftherald</th>\n",
       "      <th>firstbaron</th>\n",
       "      <th>riftheraldkills</th>\n",
       "      <th>firstblood</th>\n",
       "      <th>firsttower</th>\n",
       "      <th>inhibitorkills</th>\n",
       "      <th>towerkills</th>\n",
       "      <th>win</th>\n",
       "      <th>dragonkills</th>\n",
       "      <th>gameduration</th>\n",
       "    </tr>\n",
       "  </thead>\n",
       "  <tbody>\n",
       "    <tr>\n",
       "      <th>334586</th>\n",
       "      <td>False</td>\n",
       "      <td>True</td>\n",
       "      <td>0</td>\n",
       "      <td>False</td>\n",
       "      <td>False</td>\n",
       "      <td>0</td>\n",
       "      <td>False</td>\n",
       "      <td>False</td>\n",
       "      <td>1</td>\n",
       "      <td>6</td>\n",
       "      <td>Fail</td>\n",
       "      <td>1</td>\n",
       "      <td>2043</td>\n",
       "    </tr>\n",
       "    <tr>\n",
       "      <th>334587</th>\n",
       "      <td>True</td>\n",
       "      <td>False</td>\n",
       "      <td>2</td>\n",
       "      <td>True</td>\n",
       "      <td>True</td>\n",
       "      <td>2</td>\n",
       "      <td>True</td>\n",
       "      <td>True</td>\n",
       "      <td>2</td>\n",
       "      <td>10</td>\n",
       "      <td>Win</td>\n",
       "      <td>4</td>\n",
       "      <td>2043</td>\n",
       "    </tr>\n",
       "  </tbody>\n",
       "</table>\n",
       "</div>"
      ],
      "text/plain": [
       "        firstdragon  firstinhibitor  baronkills  firstriftherald  firstbaron  \\\n",
       "334586        False            True           0            False       False   \n",
       "334587         True           False           2             True        True   \n",
       "\n",
       "        riftheraldkills  firstblood  firsttower  inhibitorkills  towerkills  \\\n",
       "334586                0       False       False               1           6   \n",
       "334587                2        True        True               2          10   \n",
       "\n",
       "         win  dragonkills  gameduration  \n",
       "334586  Fail            1          2043  \n",
       "334587   Win            4          2043  "
      ]
     },
     "execution_count": 10,
     "metadata": {},
     "output_type": "execute_result"
    }
   ],
   "source": [
    "team_df.drop(columns=['teamid', 'vilemawkills', 'dominionvictoryscore'], inplace=True)\n",
    "team_df.tail(2)"
   ]
  },
  {
   "cell_type": "code",
   "execution_count": 5,
   "id": "7da21bad",
   "metadata": {},
   "outputs": [
    {
     "data": {
      "image/png": "[encoded data removed]",
      "text/plain": [
       "<Figure size 432x288 with 1 Axes>"
      ]
     },
     "metadata": {
      "needs_background": "light"
     },
     "output_type": "display_data"
    }
   ],
   "source": [
    "sns.distplot(team_df[\"gameduration\"]);"
   ]
  },
  {
   "cell_type": "markdown",
   "id": "0e3039a3",
   "metadata": {},
   "source": [
    "- 조기서렌을 통해 15분에 끝난 게임의 비율이 가장 많고, 그 외 30분 내외에 게임이 많이 분포되어 있다."
   ]
  },
  {
   "cell_type": "markdown",
   "id": "aca9f82a",
   "metadata": {},
   "source": [
    "### 플레이시간에 따른 오브젝트 중요도 시각화\n",
    "- `20분 미만`, `20~30`, `30~40`, `40초과`로 세분화\n",
    "- 판단지표\n",
    "    - rate : (특정 오브젝트를 선점하고 이겼을 때의 팀 수 / 특정 오브젝트를 선점한 총 팀 수)"
   ]
  },
  {
   "cell_type": "markdown",
   "id": "c32b0a8a",
   "metadata": {},
   "source": [
    "#### 기준에 따른 데이터셋 세분화"
   ]
  },
  {
   "cell_type": "code",
   "execution_count": 6,
   "id": "8a324e04",
   "metadata": {},
   "outputs": [],
   "source": [
    "less20_df = team_df[team_df['gameduration'] < 1200].reset_index()\n",
    "bet_2030_df = team_df[(team_df['gameduration'] >= 1200) & (team_df['gameduration'] < 1800)].reset_index()\n",
    "bet_3040_df = team_df[(team_df['gameduration'] >= 1800) & (team_df['gameduration'] < 2400)].reset_index()\n",
    "over40_df = team_df[team_df['gameduration'] >= 2400].reset_index()"
   ]
  },
  {
   "cell_type": "code",
   "execution_count": 7,
   "id": "09b54bc7",
   "metadata": {},
   "outputs": [
    {
     "data": {
      "image/png": "[encoded data removed]",
      "text/plain": [
       "<Figure size 432x288 with 1 Axes>"
      ]
     },
     "metadata": {
      "needs_background": "light"
     },
     "output_type": "display_data"
    }
   ],
   "source": [
    "show_rateplot(team_df, \"전체\")"
   ]
  },
  {
   "cell_type": "code",
   "execution_count": 8,
   "id": "334b1f0e",
   "metadata": {},
   "outputs": [
    {
     "data": {
      "image/png": "[encoded data removed]",
      "text/plain": [
       "<Figure size 864x720 with 4 Axes>"
      ]
     },
     "metadata": {
      "needs_background": "light"
     },
     "output_type": "display_data"
    }
   ],
   "source": [
    "plt.figure(figsize=(12, 10))\n",
    "\n",
    "plt.subplot(221)\n",
    "show_rateplot(less20_df, \"20미만\")\n",
    "\n",
    "plt.subplot(222)\n",
    "show_rateplot(bet_2030_df, \"20-30\")\n",
    "\n",
    "plt.subplot(223)\n",
    "show_rateplot(bet_3040_df, \"30-40\")\n",
    "\n",
    "plt.subplot(224)\n",
    "show_rateplot(over40_df, \"40이상\")\n",
    "\n",
    "plt.tight_layout()\n",
    "plt.show()"
   ]
  },
  {
   "cell_type": "markdown",
   "id": "f24e9bda",
   "metadata": {},
   "source": [
    "- 20분 미만 : firstinhibitor(100%) > firsttower(96%) > firstriftherald(83%) > firstdragon(78%) > firstblood(72%)\n",
    "- 20~30 : firstinhibitor(99%) > firstbaron(94%) > firsttower(75%) > firstdragon(64%) > firstriftherald(64%) > firstblood(60%)\n",
    "- 30~40 : firstinhibitor(86%) > firstbaron(74%) > firsttower(57%) > firstdragon(54%) > firstriftherald(54%) > firstblood(53%)\n",
    "- 40분 초과 : firstinhibitor(60%) > firstbaron(53%) > firstdragon(53%) > firstblood(51%) > firsttower(51%) > firstriftherald(50%)"
   ]
  },
  {
   "cell_type": "markdown",
   "id": "af7d0085",
   "metadata": {},
   "source": [
    "### 특정 플레이시간 기준과 특정 오브젝트 선점에 가장 많이 개입한 포지션 및 해당 포지션의 TOP2 챔피언 추출\n",
    "- 특정 플레이시간에서 특정 오브젝트 선점에 관여한 팀 데이터 중 승리한 데이터에서 각 포지션별 관여율 및 포지션마다 TOP2 픽률 챔피언 추출\n",
    "- ex) 20분 미만의 firstinhibitor에 관여해서 이긴 팀 데이터의 각 포지션별 관여율 및 포지션별 TOP2 챔피언\n",
    "    - 이긴 데이터의 정보를 제공함으로써 신뢰성을 높이고, 라인 및 챔피언을 추천하는 정보제공"
   ]
  },
  {
   "cell_type": "markdown",
   "id": "1bc625ab",
   "metadata": {},
   "source": [
    "#### 유저, 챔피언 정보 데이터셋 로드 및 데이터 전처리\n",
    "- 필요한 변수 추출 및 결측데이터 처리"
   ]
  },
  {
   "cell_type": "code",
   "execution_count": 7,
   "id": "14b2bfcb",
   "metadata": {},
   "outputs": [],
   "source": [
    "with open('datas/participants.pkl', 'rb') as f:\n",
    "    participant_df = pickle.load(f)\n",
    "    \n",
    "with open('datas/participantextendedstats.pkl', 'rb') as f:\n",
    "    participantextendedstat_df = pickle.load(f)\n",
    "    \n",
    "with open('datas/teams.pkl', 'rb') as f:\n",
    "    team_df = pickle.load(f)"
   ]
  },
  {
   "cell_type": "code",
   "execution_count": 8,
   "id": "62ecd475",
   "metadata": {},
   "outputs": [
    {
     "data": {
      "text/plain": [
       "['win',\n",
       " 'firsttowerassist',\n",
       " 'firsttowerkill',\n",
       " 'firstbloodassist',\n",
       " 'firstbloodkill',\n",
       " 'championid',\n",
       " 'firstinhibitorkill',\n",
       " 'firstinhibitorassist']"
      ]
     },
     "execution_count": 8,
     "metadata": {},
     "output_type": "execute_result"
    }
   ],
   "source": [
    "# 분석에 필요한 Columns만 추출 (첫 오브젝트 관여여부, 승리여부, 챔피언id)\n",
    "participant_df['championid'] = participant_df['championid'].astype('str')\n",
    "\n",
    "select_var = []\n",
    "for col in participant_df.columns:\n",
    "    if (participant_df[col].dtype == \"O\") and (col != \"role\"):\n",
    "        select_var.append(col)\n",
    "    elif col == \"win\":\n",
    "        select_var.append(col)\n",
    "    else:\n",
    "        continue\n",
    "\n",
    "select_var"
   ]
  },
  {
   "cell_type": "code",
   "execution_count": 9,
   "id": "f387b74a",
   "metadata": {},
   "outputs": [
    {
     "data": {
      "text/html": [
       "<div>\n",
       "<style scoped>\n",
       "    .dataframe tbody tr th:only-of-type {\n",
       "        vertical-align: middle;\n",
       "    }\n",
       "\n",
       "    .dataframe tbody tr th {\n",
       "        vertical-align: top;\n",
       "    }\n",
       "\n",
       "    .dataframe thead th {\n",
       "        text-align: right;\n",
       "    }\n",
       "</style>\n",
       "<table border=\"1\" class=\"dataframe\">\n",
       "  <thead>\n",
       "    <tr style=\"text-align: right;\">\n",
       "      <th></th>\n",
       "      <th>win</th>\n",
       "      <th>firsttowerassist</th>\n",
       "      <th>firsttowerkill</th>\n",
       "      <th>firstbloodassist</th>\n",
       "      <th>firstbloodkill</th>\n",
       "      <th>championid</th>\n",
       "      <th>firstinhibitorkill</th>\n",
       "      <th>firstinhibitorassist</th>\n",
       "    </tr>\n",
       "  </thead>\n",
       "  <tbody>\n",
       "    <tr>\n",
       "      <th>1698278</th>\n",
       "      <td>True</td>\n",
       "      <td>False</td>\n",
       "      <td>False</td>\n",
       "      <td>False</td>\n",
       "      <td>True</td>\n",
       "      <td>86</td>\n",
       "      <td>False</td>\n",
       "      <td>False</td>\n",
       "    </tr>\n",
       "    <tr>\n",
       "      <th>1698279</th>\n",
       "      <td>True</td>\n",
       "      <td>False</td>\n",
       "      <td>False</td>\n",
       "      <td>False</td>\n",
       "      <td>False</td>\n",
       "      <td>555</td>\n",
       "      <td>False</td>\n",
       "      <td>False</td>\n",
       "    </tr>\n",
       "  </tbody>\n",
       "</table>\n",
       "</div>"
      ],
      "text/plain": [
       "          win firsttowerassist firsttowerkill firstbloodassist firstbloodkill  \\\n",
       "1698278  True            False          False            False           True   \n",
       "1698279  True            False          False            False          False   \n",
       "\n",
       "        championid firstinhibitorkill firstinhibitorassist  \n",
       "1698278         86              False                False  \n",
       "1698279        555              False                False  "
      ]
     },
     "execution_count": 9,
     "metadata": {},
     "output_type": "execute_result"
    }
   ],
   "source": [
    "participant_df = participant_df[select_var]\n",
    "participant_df.tail(2)"
   ]
  },
  {
   "cell_type": "markdown",
   "id": "af0325b8",
   "metadata": {},
   "source": [
    "#### 팀 데이터셋과 유저정보 데이터셋 병합\n",
    "- participant_df : select_var\n",
    "- participantextendedstat_df : position\n",
    "- team_df : firstriftherald, firstbaron, gameduration"
   ]
  },
  {
   "cell_type": "code",
   "execution_count": 10,
   "id": "ad3cdd9b",
   "metadata": {},
   "outputs": [
    {
     "data": {
      "text/html": [
       "<div>\n",
       "<style scoped>\n",
       "    .dataframe tbody tr th:only-of-type {\n",
       "        vertical-align: middle;\n",
       "    }\n",
       "\n",
       "    .dataframe tbody tr th {\n",
       "        vertical-align: top;\n",
       "    }\n",
       "\n",
       "    .dataframe thead th {\n",
       "        text-align: right;\n",
       "    }\n",
       "</style>\n",
       "<table border=\"1\" class=\"dataframe\">\n",
       "  <thead>\n",
       "    <tr style=\"text-align: right;\">\n",
       "      <th></th>\n",
       "      <th>win</th>\n",
       "      <th>firsttowerassist</th>\n",
       "      <th>firsttowerkill</th>\n",
       "      <th>firstbloodassist</th>\n",
       "      <th>firstbloodkill</th>\n",
       "      <th>championid</th>\n",
       "      <th>firstinhibitorkill</th>\n",
       "      <th>firstinhibitorassist</th>\n",
       "      <th>position</th>\n",
       "      <th>firstriftherald</th>\n",
       "      <th>firstbaron</th>\n",
       "      <th>gameduration</th>\n",
       "    </tr>\n",
       "  </thead>\n",
       "  <tbody>\n",
       "    <tr>\n",
       "      <th>1698278</th>\n",
       "      <td>True</td>\n",
       "      <td>False</td>\n",
       "      <td>False</td>\n",
       "      <td>False</td>\n",
       "      <td>True</td>\n",
       "      <td>86</td>\n",
       "      <td>False</td>\n",
       "      <td>False</td>\n",
       "      <td>MID</td>\n",
       "      <td>True</td>\n",
       "      <td>True</td>\n",
       "      <td>2043</td>\n",
       "    </tr>\n",
       "    <tr>\n",
       "      <th>1698279</th>\n",
       "      <td>True</td>\n",
       "      <td>False</td>\n",
       "      <td>False</td>\n",
       "      <td>False</td>\n",
       "      <td>False</td>\n",
       "      <td>555</td>\n",
       "      <td>False</td>\n",
       "      <td>False</td>\n",
       "      <td>SUPPORT</td>\n",
       "      <td>True</td>\n",
       "      <td>True</td>\n",
       "      <td>2043</td>\n",
       "    </tr>\n",
       "  </tbody>\n",
       "</table>\n",
       "</div>"
      ],
      "text/plain": [
       "          win firsttowerassist firsttowerkill firstbloodassist firstbloodkill  \\\n",
       "1698278  True            False          False            False           True   \n",
       "1698279  True            False          False            False          False   \n",
       "\n",
       "        championid firstinhibitorkill firstinhibitorassist position  \\\n",
       "1698278         86              False                False      MID   \n",
       "1698279        555              False                False  SUPPORT   \n",
       "\n",
       "         firstriftherald  firstbaron  gameduration  \n",
       "1698278             True        True          2043  \n",
       "1698279             True        True          2043  "
      ]
     },
     "execution_count": 10,
     "metadata": {},
     "output_type": "execute_result"
    }
   ],
   "source": [
    "obj_posi_df = pd.concat([participant_df, participantextendedstat_df['position'], team_df[['firstriftherald', 'firstbaron', 'gameduration']]], axis=1)\n",
    "obj_posi_df.tail(2)"
   ]
  },
  {
   "cell_type": "markdown",
   "id": "508dcec4",
   "metadata": {},
   "source": [
    "#### 결측데이터 처리\n",
    "\n",
    "- firstbloodkill, firstbloodassist : 조기서렌으로 무효처리된 게임이거나 조기서렌(15분) 전에 끝난 데이터\n",
    "    - Max 플레이시간이 605초이므로 비정상 게임 데이터라고 판단하에 결측 데이터 제거\n",
    "- firsttowerassist, firsttowerkill : 무효처리된 게임 데이터만 삭제\n",
    "    - 나머지 결측 데이터는 조기서렌을 통한 게임이기에 정상데이터라고 판단 NaN -> False로 변환\n",
    "- firstinhibitorkill, firstinhibitorassist\n",
    "    - 결측 데이터는 조기서렌된 게임이기에 NaN -> False로 변환"
   ]
  },
  {
   "cell_type": "code",
   "execution_count": 11,
   "id": "062e39f1",
   "metadata": {},
   "outputs": [
    {
     "data": {
      "text/plain": [
       "win                          0\n",
       "firsttowerassist         21260\n",
       "firsttowerkill           21260\n",
       "firstbloodassist          4370\n",
       "firstbloodkill            4370\n",
       "championid                   0\n",
       "firstinhibitorkill      398760\n",
       "firstinhibitorassist    398760\n",
       "position                     0\n",
       "firstriftherald              0\n",
       "firstbaron                   0\n",
       "gameduration                 0\n",
       "dtype: int64"
      ]
     },
     "execution_count": 11,
     "metadata": {},
     "output_type": "execute_result"
    }
   ],
   "source": [
    "obj_posi_df.isna().sum()"
   ]
  },
  {
   "cell_type": "code",
   "execution_count": 12,
   "id": "18e97f56",
   "metadata": {},
   "outputs": [],
   "source": [
    "obj_posi_df = preprocess_participant(obj_posi_df)"
   ]
  },
  {
   "cell_type": "code",
   "execution_count": 13,
   "id": "ac92a87d",
   "metadata": {},
   "outputs": [
    {
     "data": {
      "text/plain": [
       "win                0\n",
       "championid         0\n",
       "position           0\n",
       "firstriftherald    0\n",
       "firstbaron         0\n",
       "gameduration       0\n",
       "firstinhibitor     0\n",
       "firsttower         0\n",
       "firstblood         0\n",
       "dtype: int64"
      ]
     },
     "execution_count": 13,
     "metadata": {},
     "output_type": "execute_result"
    }
   ],
   "source": [
    "obj_posi_df.isna().sum()"
   ]
  },
  {
   "cell_type": "markdown",
   "id": "60d372a8",
   "metadata": {},
   "source": [
    "#### 20~30에서, firstinhibitor관여하여 이긴 팀들의 포지션 비율 및 포지션 TOP2 챔피언 정보제공"
   ]
  },
  {
   "cell_type": "code",
   "execution_count": 14,
   "id": "f7e253e2",
   "metadata": {},
   "outputs": [
    {
     "name": "stdout",
     "output_type": "stream",
     "text": [
      "ADC의 firstinhibitor 기여도: 22.06%\n",
      "ADC 중 TOP2 Champion: Ezreal(17.96%), Caitlyn(12.56%)\n",
      "--------------\n",
      "JUNGLE의 firstinhibitor 기여도: 19.57%\n",
      "JUNGLE 중 TOP2 Champion: LeeSin(9.43%), Nidalee(8.6%)\n",
      "--------------\n",
      "MID의 firstinhibitor 기여도: 18.62%\n",
      "MID 중 TOP2 Champion: Sylas(5.63%), Akali(5.54%)\n",
      "--------------\n",
      "SUPPORT의 firstinhibitor 기여도: 21.57%\n",
      "SUPPORT 중 TOP2 Champion: Thresh(9.58%), Lulu(7.56%)\n",
      "--------------\n",
      "TOP의 firstinhibitor 기여도: 18.19%\n",
      "TOP 중 TOP2 Champion: Camille(6.64%), Renekton(5.68%)\n",
      "--------------\n"
     ]
    }
   ],
   "source": [
    "recommendation_obj(obj_posi_df, 'firstinhibitor', 1200, 1800)"
   ]
  },
  {
   "cell_type": "markdown",
   "id": "fb822b49",
   "metadata": {},
   "source": [
    "#### 20~30에서, firsttower에 관여하여 이긴 팀들의 포지션 비율 및 포지션 TOP2 챔피언 정보제공"
   ]
  },
  {
   "cell_type": "code",
   "execution_count": 17,
   "id": "049490ce",
   "metadata": {},
   "outputs": [
    {
     "name": "stdout",
     "output_type": "stream",
     "text": [
      "ADC의 firsttower 기여도: 21.71%\n",
      "ADC 중 TOP2 Champion: Caitlyn(16.74%), Ezreal(15.25%)\n",
      "--------------\n",
      "JUNGLE의 firsttower 기여도: 23.34%\n",
      "JUNGLE 중 TOP2 Champion: LeeSin(9.77%), Graves(9.5%)\n",
      "--------------\n",
      "MID의 firsttower 기여도: 14.21%\n",
      "MID 중 TOP2 Champion: Lucian(7.09%), Zed(5.3%)\n",
      "--------------\n",
      "SUPPORT의 firsttower 기여도: 17.5%\n",
      "SUPPORT 중 TOP2 Champion: Thresh(9.33%), Lulu(7.74%)\n",
      "--------------\n",
      "TOP의 firsttower 기여도: 23.23%\n",
      "TOP 중 TOP2 Champion: Renekton(8.12%), Camille(6.71%)\n",
      "--------------\n"
     ]
    }
   ],
   "source": [
    "recommendation_obj(obj_posi_df, 'firsttower', 1200, 1800)"
   ]
  },
  {
   "cell_type": "markdown",
   "id": "ba5b9f22",
   "metadata": {},
   "source": [
    "#### 20~30에서, firstbaron에 관여하여 이긴 팀들의 포지션 비율 및 포지션 TOP2 챔피언 정보제공"
   ]
  },
  {
   "cell_type": "code",
   "execution_count": 18,
   "id": "343c347f",
   "metadata": {},
   "outputs": [
    {
     "name": "stdout",
     "output_type": "stream",
     "text": [
      "ADC의 firstbaron 기여도: 20.0%\n",
      "ADC 중 TOP2 Champion: Ezreal(17.18%), Caitlyn(12.13%)\n",
      "--------------\n",
      "JUNGLE의 firstbaron 기여도: 20.0%\n",
      "JUNGLE 중 TOP2 Champion: LeeSin(9.09%), Graves(7.97%)\n",
      "--------------\n",
      "MID의 firstbaron 기여도: 20.0%\n",
      "MID 중 TOP2 Champion: Akali(6.34%), Sylas(5.64%)\n",
      "--------------\n",
      "SUPPORT의 firstbaron 기여도: 20.0%\n",
      "SUPPORT 중 TOP2 Champion: Thresh(9.6%), Lulu(6.7%)\n",
      "--------------\n",
      "TOP의 firstbaron 기여도: 20.0%\n",
      "TOP 중 TOP2 Champion: Camille(7.26%), Renekton(5.74%)\n",
      "--------------\n"
     ]
    }
   ],
   "source": [
    "recommendation_obj(obj_posi_df, 'firstbaron', 1200, 1800)"
   ]
  }
 ],
 "metadata": {
  "kernelspec": {
   "display_name": "Python 3",
   "language": "python",
   "name": "python3"
  },
  "language_info": {
   "codemirror_mode": {
    "name": "ipython",
    "version": 3
   },
   "file_extension": ".py",
   "mimetype": "text/x-python",
   "name": "python",
   "nbconvert_exporter": "python",
   "pygments_lexer": "ipython3",
   "version": "3.8.8"
  }
 },
 "nbformat": 4,
 "nbformat_minor": 5
}
